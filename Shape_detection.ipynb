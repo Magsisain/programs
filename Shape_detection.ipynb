{
 "cells": [
  {
   "cell_type": "markdown",
   "metadata": {},
   "source": [
    "### IMPORTING LIBRARIES "
   ]
  },
  {
   "cell_type": "code",
   "execution_count": 6,
   "metadata": {},
   "outputs": [],
   "source": [
    "import numpy as np \n",
    "import cv2 as cv"
   ]
  },
  {
   "cell_type": "markdown",
   "metadata": {},
   "source": [
    "### CONTOUR DETETCTION FOR FIRST IMAGE HAVING DIFFERENT SHAPES \n"
   ]
  },
  {
   "cell_type": "code",
   "execution_count": 7,
   "metadata": {},
   "outputs": [],
   "source": [
    "img=cv.imread(\"Shapes.png\")\n",
    "re_img=cv.resize(img,(450,450))\n",
    "imgGrey=cv.cvtColor(re_img,cv.COLOR_BGR2GRAY)\n",
    "_,thrash=cv.threshold(imgGrey,240,255,cv.THRESH_BINARY)\n",
    "contours,_=cv.findContours(thrash,cv.RETR_TREE,cv.CHAIN_APPROX_NONE)\n",
    "for contour in contours:\n",
    "    approx=cv.approxPolyDP(contour,0.01*cv.arcLength(contour,True),True)\n",
    "    cv.drawContours(re_img,[approx],0,(0,255,0),3)\n",
    "    a=approx.ravel()[0]\n",
    "    b=approx.ravel()[1]-5\n",
    "    if len(approx)==3:\n",
    "        cv.putText(re_img,\"Triangle\",(a,b),cv.FONT_HERSHEY_COMPLEX,0.5,(0,0,0))\n",
    "    elif len(approx)==4:\n",
    "        cv.putText(re_img,\"Square\",(a,b),cv.FONT_HERSHEY_COMPLEX,0.5,(0,0,0))\n",
    "    elif len(approx)==5:\n",
    "        cv.putText(re_img,\"Pentagon\",(a,b),cv.FONT_HERSHEY_COMPLEX,0.5,(0,0,0))\n",
    "    elif len(approx)==6:\n",
    "        cv.putText(re_img,\"Hexagon\",(a,b),cv.FONT_HERSHEY_COMPLEX,0.5,(0,0,0))\n",
    "    elif len(approx)==8:\n",
    "        cv.putText(re_img,\"Octagone\",(a,b),cv.FONT_HERSHEY_COMPLEX,0.5,(0,0,0))\n"
   ]
  },
  {
   "cell_type": "markdown",
   "metadata": {},
   "source": [
    "#### CONTOUR DETETCTION FOR SECOND IMAGE HAVING DIFFERENT TYPES OF SHAPES (LIKE STAR , CIRCLE)"
   ]
  },
  {
   "cell_type": "code",
   "execution_count": 8,
   "metadata": {},
   "outputs": [],
   "source": [
    "shapes=cv.imread('Shape1.jpeg')\n",
    "shapes=cv.resize(shapes,(450,450))\n",
    "imgGrey=cv.cvtColor(shapes,cv.COLOR_BGR2GRAY)\n",
    "_,thrash=cv.threshold(imgGrey,240,255,cv.THRESH_BINARY)\n",
    "contours,_=cv.findContours(thrash,cv.RETR_TREE,cv.CHAIN_APPROX_NONE)\n",
    "for contour in contours:\n",
    "    approx=cv.approxPolyDP(contour,0.01*cv.arcLength(contour,True),True)\n",
    "    cv.drawContours(shapes,[approx],0,(0,255,0),3)\n",
    "    a=approx.ravel()[0]\n",
    "    b=approx.ravel()[1]-5\n",
    "    if len(approx)==3:\n",
    "        cv.putText(shapes,\"Triangle\",(a,b),cv.FONT_HERSHEY_COMPLEX,0.5,(0,0,0),1)\n",
    "    elif len(approx)==4:\n",
    "        x1,y1,w,h=cv.boundingRect(approx)\n",
    "        aspectratio=float(w)/h\n",
    "        if aspectratio>=0.95 and aspectratio<=1.05:\n",
    "            cv.putText(shapes,\"Square\",(a,b),cv.FONT_HERSHEY_COMPLEX,0.5,(0,0,0),1)\n",
    "        else:\n",
    "            cv.putText(shapes,\"Rectangle\",(a,b),cv.FONT_HERSHEY_COMPLEX,0.5,(0,0,0),1)\n",
    "    elif len(approx)==5:\n",
    "        cv.putText(shapes,\"Pentagon\",(a,b),cv.FONT_HERSHEY_COMPLEX,0.5,(0,0,0),1)\n",
    "    elif len(approx)==10:\n",
    "        cv.putText(shapes,\"STAR\",(a,b),cv.FONT_HERSHEY_COMPLEX,0.5,(0,0,0),1)\n",
    "    else:\n",
    "        cv.putText(shapes,\"Circle\",(a,b),cv.FONT_HERSHEY_COMPLEX,0.5,(0,0,0),1)"
   ]
  },
  {
   "cell_type": "markdown",
   "metadata": {},
   "source": [
    "### DISPLAYING THE IMAGES WITH CONTOUR DETETCTION WITH APPROPRIATE NAMES OF SHAPE "
   ]
  },
  {
   "cell_type": "code",
   "execution_count": 9,
   "metadata": {},
   "outputs": [],
   "source": [
    "Horr=np.concatenate((re_img,shapes),1)\n",
    "cv.imshow(\"Contoured Shapes \",Horr)\n",
    "cv.waitKey(0)\n",
    "cv.destroyAllWindows()"
   ]
  },
  {
   "cell_type": "code",
   "execution_count": null,
   "metadata": {},
   "outputs": [],
   "source": []
  }
 ],
 "metadata": {
  "kernelspec": {
   "display_name": "Python 3.8.1 64-bit",
   "language": "python",
   "name": "python3"
  },
  "language_info": {
   "codemirror_mode": {
    "name": "ipython",
    "version": 3
   },
   "file_extension": ".py",
   "mimetype": "text/x-python",
   "name": "python",
   "nbconvert_exporter": "python",
   "pygments_lexer": "ipython3",
   "version": "3.8.1"
  },
  "orig_nbformat": 4,
  "vscode": {
   "interpreter": {
    "hash": "4c56dd2cf221d1b04b963ce4af3dc9f583d792bd7113c7eee9240aa89bde7cbe"
   }
  }
 },
 "nbformat": 4,
 "nbformat_minor": 2
}
